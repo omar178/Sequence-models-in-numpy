{
 "cells": [
  {
   "cell_type": "code",
   "execution_count": 1,
   "metadata": {},
   "outputs": [
    {
     "name": "stdout",
     "output_type": "stream",
     "text": [
      "--2019-09-26 06:40:26--  http://www.thespermwhale.com/jaseweston/babi/tasks_1-20_v1-1.tar.gz\n",
      "Resolving www.thespermwhale.com (www.thespermwhale.com)... 69.65.3.213\n",
      "Connecting to www.thespermwhale.com (www.thespermwhale.com)|69.65.3.213|:80... connected.\n",
      "HTTP request sent, awaiting response... 200 OK\n",
      "Length: 1282454 (1.2M) [application/x-gzip]\n",
      "Saving to: ‘tasks_1-20_v1-1.tar.gz.3’\n",
      "\n",
      "tasks_1-20_v1-1.tar 100%[===================>]   1.22M   582KB/s    in 2.2s    \n",
      "\n",
      "2019-09-26 06:40:32 (582 KB/s) - ‘tasks_1-20_v1-1.tar.gz.3’ saved [1282454/1282454]\n",
      "\n",
      "tar: Ignoring unknown extended header keyword 'LIBARCHIVE.creationtime'\n",
      "tar: Ignoring unknown extended header keyword 'SCHILY.dev'\n",
      "tar: Ignoring unknown extended header keyword 'SCHILY.ino'\n",
      "tar: Ignoring unknown extended header keyword 'SCHILY.nlink'\n",
      "tasksv11/\n",
      "tar: Ignoring unknown extended header keyword 'SCHILY.dev'\n",
      "tar: Ignoring unknown extended header keyword 'SCHILY.ino'\n",
      "tar: Ignoring unknown extended header keyword 'SCHILY.nlink'\n",
      "tasksv11/en/\n",
      "tar: Ignoring unknown extended header keyword 'SCHILY.dev'\n",
      "tar: Ignoring unknown extended header keyword 'SCHILY.ino'\n",
      "tar: Ignoring unknown extended header keyword 'SCHILY.nlink'\n",
      "tasksv11/._LICENSE\n",
      "tar: Ignoring unknown extended header keyword 'LIBARCHIVE.creationtime'\n",
      "tar: Ignoring unknown extended header keyword 'SCHILY.dev'\n",
      "tar: Ignoring unknown extended header keyword 'SCHILY.ino'\n",
      "tar: Ignoring unknown extended header keyword 'SCHILY.nlink'\n",
      "tasksv11/LICENSE\n",
      "tar: Ignoring unknown extended header keyword 'SCHILY.dev'\n",
      "tar: Ignoring unknown extended header keyword 'SCHILY.ino'\n",
      "tar: Ignoring unknown extended header keyword 'SCHILY.nlink'\n",
      "tasksv11/README\n",
      "tar: Ignoring unknown extended header keyword 'SCHILY.dev'\n",
      "tar: Ignoring unknown extended header keyword 'SCHILY.ino'\n",
      "tar: Ignoring unknown extended header keyword 'SCHILY.nlink'\n",
      "tasksv11/shuffled/\n",
      "tar: Ignoring unknown extended header keyword 'SCHILY.dev'\n",
      "tar: Ignoring unknown extended header keyword 'SCHILY.ino'\n",
      "tar: Ignoring unknown extended header keyword 'SCHILY.nlink'\n",
      "tasksv11/shuffled/qa10_indefinite-knowledge_test.txt\n",
      "tar: Ignoring unknown extended header keyword 'SCHILY.dev'\n",
      "tar: Ignoring unknown extended header keyword 'SCHILY.ino'\n",
      "tar: Ignoring unknown extended header keyword 'SCHILY.nlink'\n",
      "tasksv11/shuffled/qa10_indefinite-knowledge_train.txt\n",
      "tar: Ignoring unknown extended header keyword 'SCHILY.dev'\n",
      "tar: Ignoring unknown extended header keyword 'SCHILY.ino'\n",
      "tar: Ignoring unknown extended header keyword 'SCHILY.nlink'\n",
      "tasksv11/shuffled/qa11_basic-coreference_test.txt\n",
      "tar: Ignoring unknown extended header keyword 'SCHILY.dev'\n",
      "tar: Ignoring unknown extended header keyword 'SCHILY.ino'\n",
      "tar: Ignoring unknown extended header keyword 'SCHILY.nlink'\n",
      "tasksv11/shuffled/qa11_basic-coreference_train.txt\n",
      "tar: Ignoring unknown extended header keyword 'SCHILY.dev'\n",
      "tar: Ignoring unknown extended header keyword 'SCHILY.ino'\n",
      "tar: Ignoring unknown extended header keyword 'SCHILY.nlink'\n",
      "tasksv11/shuffled/qa12_conjunction_test.txt\n",
      "tar: Ignoring unknown extended header keyword 'SCHILY.dev'\n",
      "tar: Ignoring unknown extended header keyword 'SCHILY.ino'\n",
      "tar: Ignoring unknown extended header keyword 'SCHILY.nlink'\n",
      "tasksv11/shuffled/qa12_conjunction_train.txt\n",
      "tar: Ignoring unknown extended header keyword 'SCHILY.dev'\n",
      "tar: Ignoring unknown extended header keyword 'SCHILY.ino'\n",
      "tar: Ignoring unknown extended header keyword 'SCHILY.nlink'\n",
      "tasksv11/shuffled/qa13_compound-coreference_test.txt\n",
      "tar: Ignoring unknown extended header keyword 'SCHILY.dev'\n",
      "tar: Ignoring unknown extended header keyword 'SCHILY.ino'\n",
      "tar: Ignoring unknown extended header keyword 'SCHILY.nlink'\n",
      "tasksv11/shuffled/qa13_compound-coreference_train.txt\n",
      "tar: Ignoring unknown extended header keyword 'SCHILY.dev'\n",
      "tar: Ignoring unknown extended header keyword 'SCHILY.ino'\n",
      "tar: Ignoring unknown extended header keyword 'SCHILY.nlink'\n",
      "tasksv11/shuffled/qa14_time-reasoning_test.txt\n",
      "tar: Ignoring unknown extended header keyword 'SCHILY.dev'\n",
      "tar: Ignoring unknown extended header keyword 'SCHILY.ino'\n",
      "tar: Ignoring unknown extended header keyword 'SCHILY.nlink'\n",
      "tasksv11/shuffled/qa14_time-reasoning_train.txt\n",
      "tar: Ignoring unknown extended header keyword 'SCHILY.dev'\n",
      "tar: Ignoring unknown extended header keyword 'SCHILY.ino'\n",
      "tar: Ignoring unknown extended header keyword 'SCHILY.nlink'\n",
      "tasksv11/shuffled/qa15_basic-deduction_test.txt\n",
      "tar: Ignoring unknown extended header keyword 'SCHILY.dev'\n",
      "tar: Ignoring unknown extended header keyword 'SCHILY.ino'\n",
      "tar: Ignoring unknown extended header keyword 'SCHILY.nlink'\n",
      "tasksv11/shuffled/qa15_basic-deduction_train.txt\n",
      "tar: Ignoring unknown extended header keyword 'SCHILY.dev'\n",
      "tar: Ignoring unknown extended header keyword 'SCHILY.ino'\n",
      "tar: Ignoring unknown extended header keyword 'SCHILY.nlink'\n",
      "tasksv11/shuffled/qa16_basic-induction_test.txt\n",
      "tar: Ignoring unknown extended header keyword 'SCHILY.dev'\n",
      "tar: Ignoring unknown extended header keyword 'SCHILY.ino'\n",
      "tar: Ignoring unknown extended header keyword 'SCHILY.nlink'\n",
      "tasksv11/shuffled/qa16_basic-induction_train.txt\n",
      "tar: Ignoring unknown extended header keyword 'SCHILY.dev'\n",
      "tar: Ignoring unknown extended header keyword 'SCHILY.ino'\n",
      "tar: Ignoring unknown extended header keyword 'SCHILY.nlink'\n",
      "tasksv11/shuffled/qa17_positional-reasoning_test.txt\n",
      "tar: Ignoring unknown extended header keyword 'SCHILY.dev'\n",
      "tar: Ignoring unknown extended header keyword 'SCHILY.ino'\n",
      "tar: Ignoring unknown extended header keyword 'SCHILY.nlink'\n",
      "tasksv11/shuffled/qa17_positional-reasoning_train.txt\n",
      "tar: Ignoring unknown extended header keyword 'SCHILY.dev'\n",
      "tar: Ignoring unknown extended header keyword 'SCHILY.ino'\n",
      "tar: Ignoring unknown extended header keyword 'SCHILY.nlink'\n",
      "tasksv11/shuffled/qa18_size-reasoning_test.txt\n",
      "tar: Ignoring unknown extended header keyword 'SCHILY.dev'\n",
      "tar: Ignoring unknown extended header keyword 'SCHILY.ino'\n",
      "tar: Ignoring unknown extended header keyword 'SCHILY.nlink'\n",
      "tasksv11/shuffled/qa18_size-reasoning_train.txt\n",
      "tar: Ignoring unknown extended header keyword 'SCHILY.dev'\n",
      "tar: Ignoring unknown extended header keyword 'SCHILY.ino'\n",
      "tar: Ignoring unknown extended header keyword 'SCHILY.nlink'\n",
      "tasksv11/shuffled/qa19_path-finding_test.txt\n",
      "tar: Ignoring unknown extended header keyword 'SCHILY.dev'\n",
      "tar: Ignoring unknown extended header keyword 'SCHILY.ino'\n",
      "tar: Ignoring unknown extended header keyword 'SCHILY.nlink'\n",
      "tasksv11/shuffled/qa19_path-finding_train.txt\n",
      "tar: Ignoring unknown extended header keyword 'SCHILY.dev'\n",
      "tar: Ignoring unknown extended header keyword 'SCHILY.ino'\n",
      "tar: Ignoring unknown extended header keyword 'SCHILY.nlink'\n",
      "tasksv11/shuffled/qa1_single-supporting-fact_test.txt\n",
      "tar: Ignoring unknown extended header keyword 'SCHILY.dev'\n",
      "tar: Ignoring unknown extended header keyword 'SCHILY.ino'\n",
      "tar: Ignoring unknown extended header keyword 'SCHILY.nlink'\n",
      "tasksv11/shuffled/qa1_single-supporting-fact_train.txt\n",
      "tar: Ignoring unknown extended header keyword 'SCHILY.dev'\n",
      "tar: Ignoring unknown extended header keyword 'SCHILY.ino'\n",
      "tar: Ignoring unknown extended header keyword 'SCHILY.nlink'\n",
      "tasksv11/shuffled/qa20_agents-motivations_test.txt\n",
      "tar: Ignoring unknown extended header keyword 'SCHILY.dev'\n",
      "tar: Ignoring unknown extended header keyword 'SCHILY.ino'\n",
      "tar: Ignoring unknown extended header keyword 'SCHILY.nlink'\n",
      "tasksv11/shuffled/qa20_agents-motivations_train.txt\n",
      "tar: Ignoring unknown extended header keyword 'SCHILY.dev'\n",
      "tar: Ignoring unknown extended header keyword 'SCHILY.ino'\n",
      "tar: Ignoring unknown extended header keyword 'SCHILY.nlink'\n",
      "tasksv11/shuffled/qa2_two-supporting-facts_test.txt\n",
      "tar: Ignoring unknown extended header keyword 'SCHILY.dev'\n",
      "tar: Ignoring unknown extended header keyword 'SCHILY.ino'\n",
      "tar: Ignoring unknown extended header keyword 'SCHILY.nlink'\n",
      "tasksv11/shuffled/qa2_two-supporting-facts_train.txt\n",
      "tar: Ignoring unknown extended header keyword 'SCHILY.dev'\n",
      "tar: Ignoring unknown extended header keyword 'SCHILY.ino'\n",
      "tar: Ignoring unknown extended header keyword 'SCHILY.nlink'\n",
      "tasksv11/shuffled/qa3_three-supporting-facts_test.txt\n",
      "tar: Ignoring unknown extended header keyword 'SCHILY.dev'\n",
      "tar: Ignoring unknown extended header keyword 'SCHILY.ino'\n",
      "tar: Ignoring unknown extended header keyword 'SCHILY.nlink'\n",
      "tasksv11/shuffled/qa3_three-supporting-facts_train.txt\n",
      "tar: Ignoring unknown extended header keyword 'SCHILY.dev'\n",
      "tar: Ignoring unknown extended header keyword 'SCHILY.ino'\n",
      "tar: Ignoring unknown extended header keyword 'SCHILY.nlink'\n",
      "tasksv11/shuffled/qa4_two-arg-relations_test.txt\n",
      "tar: Ignoring unknown extended header keyword 'SCHILY.dev'\n",
      "tar: Ignoring unknown extended header keyword 'SCHILY.ino'\n",
      "tar: Ignoring unknown extended header keyword 'SCHILY.nlink'\n",
      "tasksv11/shuffled/qa4_two-arg-relations_train.txt\n",
      "tar: Ignoring unknown extended header keyword 'SCHILY.dev'\n",
      "tar: Ignoring unknown extended header keyword 'SCHILY.ino'\n",
      "tar: Ignoring unknown extended header keyword 'SCHILY.nlink'\n",
      "tasksv11/shuffled/qa5_three-arg-relations_test.txt\n",
      "tar: Ignoring unknown extended header keyword 'SCHILY.dev'\n",
      "tar: Ignoring unknown extended header keyword 'SCHILY.ino'\n",
      "tar: Ignoring unknown extended header keyword 'SCHILY.nlink'\n",
      "tasksv11/shuffled/qa5_three-arg-relations_train.txt\n",
      "tar: Ignoring unknown extended header keyword 'SCHILY.dev'\n",
      "tar: Ignoring unknown extended header keyword 'SCHILY.ino'\n",
      "tar: Ignoring unknown extended header keyword 'SCHILY.nlink'\n",
      "tasksv11/shuffled/qa6_yes-no-questions_test.txt\n",
      "tar: Ignoring unknown extended header keyword 'SCHILY.dev'\n",
      "tar: Ignoring unknown extended header keyword 'SCHILY.ino'\n",
      "tar: Ignoring unknown extended header keyword 'SCHILY.nlink'\n",
      "tasksv11/shuffled/qa6_yes-no-questions_train.txt\n",
      "tar: Ignoring unknown extended header keyword 'SCHILY.dev'\n",
      "tar: Ignoring unknown extended header keyword 'SCHILY.ino'\n",
      "tar: Ignoring unknown extended header keyword 'SCHILY.nlink'\n",
      "tasksv11/shuffled/qa7_counting_test.txt\n",
      "tar: Ignoring unknown extended header keyword 'SCHILY.dev'\n",
      "tar: Ignoring unknown extended header keyword 'SCHILY.ino'\n",
      "tar: Ignoring unknown extended header keyword 'SCHILY.nlink'\n",
      "tasksv11/shuffled/qa7_counting_train.txt\n",
      "tar: Ignoring unknown extended header keyword 'SCHILY.dev'\n",
      "tar: Ignoring unknown extended header keyword 'SCHILY.ino'\n",
      "tar: Ignoring unknown extended header keyword 'SCHILY.nlink'\n",
      "tasksv11/shuffled/qa8_lists-sets_test.txt\n",
      "tar: Ignoring unknown extended header keyword 'SCHILY.dev'\n",
      "tar: Ignoring unknown extended header keyword 'SCHILY.ino'\n",
      "tar: Ignoring unknown extended header keyword 'SCHILY.nlink'\n",
      "tasksv11/shuffled/qa8_lists-sets_train.txt\n",
      "tar: Ignoring unknown extended header keyword 'SCHILY.dev'\n",
      "tar: Ignoring unknown extended header keyword 'SCHILY.ino'\n",
      "tar: Ignoring unknown extended header keyword 'SCHILY.nlink'\n",
      "tasksv11/shuffled/qa9_simple-negation_test.txt\n",
      "tar: Ignoring unknown extended header keyword 'SCHILY.dev'\n",
      "tar: Ignoring unknown extended header keyword 'SCHILY.ino'\n",
      "tar: Ignoring unknown extended header keyword 'SCHILY.nlink'\n",
      "tasksv11/shuffled/qa9_simple-negation_train.txt\n",
      "tar: Ignoring unknown extended header keyword 'SCHILY.dev'\n",
      "tar: Ignoring unknown extended header keyword 'SCHILY.ino'\n",
      "tar: Ignoring unknown extended header keyword 'SCHILY.nlink'\n",
      "tasksv11/en/qa10_indefinite-knowledge_test.txt\n",
      "tar: Ignoring unknown extended header keyword 'SCHILY.dev'\n",
      "tar: Ignoring unknown extended header keyword 'SCHILY.ino'\n",
      "tar: Ignoring unknown extended header keyword 'SCHILY.nlink'\n",
      "tasksv11/en/qa10_indefinite-knowledge_train.txt\n",
      "tar: Ignoring unknown extended header keyword 'SCHILY.dev'\n",
      "tar: Ignoring unknown extended header keyword 'SCHILY.ino'\n",
      "tar: Ignoring unknown extended header keyword 'SCHILY.nlink'\n",
      "tasksv11/en/qa11_basic-coreference_test.txt\n",
      "tar: Ignoring unknown extended header keyword 'SCHILY.dev'\n",
      "tar: Ignoring unknown extended header keyword 'SCHILY.ino'\n",
      "tar: Ignoring unknown extended header keyword 'SCHILY.nlink'\n",
      "tasksv11/en/qa11_basic-coreference_train.txt\n",
      "tar: Ignoring unknown extended header keyword 'SCHILY.dev'\n",
      "tar: Ignoring unknown extended header keyword 'SCHILY.ino'\n",
      "tar: Ignoring unknown extended header keyword 'SCHILY.nlink'\n",
      "tasksv11/en/qa12_conjunction_test.txt\n",
      "tar: Ignoring unknown extended header keyword 'SCHILY.dev'\n",
      "tar: Ignoring unknown extended header keyword 'SCHILY.ino'\n",
      "tar: Ignoring unknown extended header keyword 'SCHILY.nlink'\n",
      "tasksv11/en/qa12_conjunction_train.txt\n",
      "tar: Ignoring unknown extended header keyword 'SCHILY.dev'\n",
      "tar: Ignoring unknown extended header keyword 'SCHILY.ino'\n",
      "tar: Ignoring unknown extended header keyword 'SCHILY.nlink'\n",
      "tasksv11/en/qa13_compound-coreference_test.txt\n",
      "tar: Ignoring unknown extended header keyword 'SCHILY.dev'\n",
      "tar: Ignoring unknown extended header keyword 'SCHILY.ino'\n",
      "tar: Ignoring unknown extended header keyword 'SCHILY.nlink'\n",
      "tasksv11/en/qa13_compound-coreference_train.txt\n",
      "tar: Ignoring unknown extended header keyword 'SCHILY.dev'\n",
      "tar: Ignoring unknown extended header keyword 'SCHILY.ino'\n",
      "tar: Ignoring unknown extended header keyword 'SCHILY.nlink'\n",
      "tasksv11/en/qa14_time-reasoning_test.txt\n",
      "tar: Ignoring unknown extended header keyword 'SCHILY.dev'\n",
      "tar: Ignoring unknown extended header keyword 'SCHILY.ino'\n",
      "tar: Ignoring unknown extended header keyword 'SCHILY.nlink'\n",
      "tasksv11/en/qa14_time-reasoning_train.txt\n",
      "tar: Ignoring unknown extended header keyword 'SCHILY.dev'\n",
      "tar: Ignoring unknown extended header keyword 'SCHILY.ino'\n",
      "tar: Ignoring unknown extended header keyword 'SCHILY.nlink'\n",
      "tasksv11/en/qa15_basic-deduction_test.txt\n",
      "tar: Ignoring unknown extended header keyword 'SCHILY.dev'\n",
      "tar: Ignoring unknown extended header keyword 'SCHILY.ino'\n",
      "tar: Ignoring unknown extended header keyword 'SCHILY.nlink'\n",
      "tasksv11/en/qa15_basic-deduction_train.txt\n",
      "tar: Ignoring unknown extended header keyword 'SCHILY.dev'\n",
      "tar: Ignoring unknown extended header keyword 'SCHILY.ino'\n",
      "tar: Ignoring unknown extended header keyword 'SCHILY.nlink'\n",
      "tasksv11/en/qa16_basic-induction_test.txt\n",
      "tar: Ignoring unknown extended header keyword 'SCHILY.dev'\n",
      "tar: Ignoring unknown extended header keyword 'SCHILY.ino'\n",
      "tar: Ignoring unknown extended header keyword 'SCHILY.nlink'\n",
      "tasksv11/en/qa16_basic-induction_train.txt\n",
      "tar: Ignoring unknown extended header keyword 'SCHILY.dev'\n",
      "tar: Ignoring unknown extended header keyword 'SCHILY.ino'\n",
      "tar: Ignoring unknown extended header keyword 'SCHILY.nlink'\n",
      "tasksv11/en/qa17_positional-reasoning_test.txt\n",
      "tar: Ignoring unknown extended header keyword 'SCHILY.dev'\n",
      "tar: Ignoring unknown extended header keyword 'SCHILY.ino'\n",
      "tar: Ignoring unknown extended header keyword 'SCHILY.nlink'\n",
      "tasksv11/en/qa17_positional-reasoning_train.txt\n",
      "tar: Ignoring unknown extended header keyword 'SCHILY.dev'\n",
      "tar: Ignoring unknown extended header keyword 'SCHILY.ino'\n",
      "tar: Ignoring unknown extended header keyword 'SCHILY.nlink'\n",
      "tasksv11/en/qa18_size-reasoning_test.txt\n",
      "tar: Ignoring unknown extended header keyword 'SCHILY.dev'\n",
      "tar: Ignoring unknown extended header keyword 'SCHILY.ino'\n",
      "tar: Ignoring unknown extended header keyword 'SCHILY.nlink'\n",
      "tasksv11/en/qa18_size-reasoning_train.txt\n",
      "tar: Ignoring unknown extended header keyword 'SCHILY.dev'\n",
      "tar: Ignoring unknown extended header keyword 'SCHILY.ino'\n",
      "tar: Ignoring unknown extended header keyword 'SCHILY.nlink'\n",
      "tasksv11/en/qa19_path-finding_test.txt\n",
      "tar: Ignoring unknown extended header keyword 'SCHILY.dev'\n",
      "tar: Ignoring unknown extended header keyword 'SCHILY.ino'\n",
      "tar: Ignoring unknown extended header keyword 'SCHILY.nlink'\n",
      "tasksv11/en/qa19_path-finding_train.txt\n",
      "tar: Ignoring unknown extended header keyword 'SCHILY.dev'\n",
      "tar: Ignoring unknown extended header keyword 'SCHILY.ino'\n",
      "tar: Ignoring unknown extended header keyword 'SCHILY.nlink'\n",
      "tasksv11/en/qa1_single-supporting-fact_test.txt\n",
      "tar: Ignoring unknown extended header keyword 'SCHILY.dev'\n",
      "tar: Ignoring unknown extended header keyword 'SCHILY.ino'\n",
      "tar: Ignoring unknown extended header keyword 'SCHILY.nlink'\n",
      "tasksv11/en/qa1_single-supporting-fact_train.txt\n",
      "tar: Ignoring unknown extended header keyword 'SCHILY.dev'\n",
      "tar: Ignoring unknown extended header keyword 'SCHILY.ino'\n",
      "tar: Ignoring unknown extended header keyword 'SCHILY.nlink'\n",
      "tasksv11/en/qa20_agents-motivations_test.txt\n",
      "tar: Ignoring unknown extended header keyword 'SCHILY.dev'\n",
      "tar: Ignoring unknown extended header keyword 'SCHILY.ino'\n",
      "tar: Ignoring unknown extended header keyword 'SCHILY.nlink'\n",
      "tasksv11/en/qa20_agents-motivations_train.txt\n",
      "tar: Ignoring unknown extended header keyword 'SCHILY.dev'\n",
      "tar: Ignoring unknown extended header keyword 'SCHILY.ino'\n",
      "tar: Ignoring unknown extended header keyword 'SCHILY.nlink'\n",
      "tasksv11/en/qa2_two-supporting-facts_test.txt\n"
     ]
    },
    {
     "name": "stdout",
     "output_type": "stream",
     "text": [
      "tar: Ignoring unknown extended header keyword 'SCHILY.dev'\r\n",
      "tar: Ignoring unknown extended header keyword 'SCHILY.ino'\r\n",
      "tar: Ignoring unknown extended header keyword 'SCHILY.nlink'\r\n",
      "tasksv11/en/qa2_two-supporting-facts_train.txt\r\n",
      "tar: Ignoring unknown extended header keyword 'SCHILY.dev'\r\n",
      "tar: Ignoring unknown extended header keyword 'SCHILY.ino'\r\n",
      "tar: Ignoring unknown extended header keyword 'SCHILY.nlink'\r\n",
      "tasksv11/en/qa3_three-supporting-facts_test.txt\r\n",
      "tar: Ignoring unknown extended header keyword 'SCHILY.dev'\r\n",
      "tar: Ignoring unknown extended header keyword 'SCHILY.ino'\r\n",
      "tar: Ignoring unknown extended header keyword 'SCHILY.nlink'\r\n",
      "tasksv11/en/qa3_three-supporting-facts_train.txt\r\n",
      "tar: Ignoring unknown extended header keyword 'SCHILY.dev'\r\n",
      "tar: Ignoring unknown extended header keyword 'SCHILY.ino'\r\n",
      "tar: Ignoring unknown extended header keyword 'SCHILY.nlink'\r\n",
      "tasksv11/en/qa4_two-arg-relations_test.txt\r\n",
      "tar: Ignoring unknown extended header keyword 'SCHILY.dev'\r\n",
      "tar: Ignoring unknown extended header keyword 'SCHILY.ino'\r\n",
      "tar: Ignoring unknown extended header keyword 'SCHILY.nlink'\r\n",
      "tasksv11/en/qa4_two-arg-relations_train.txt\r\n",
      "tar: Ignoring unknown extended header keyword 'SCHILY.dev'\r\n",
      "tar: Ignoring unknown extended header keyword 'SCHILY.ino'\r\n",
      "tar: Ignoring unknown extended header keyword 'SCHILY.nlink'\r\n",
      "tasksv11/en/qa5_three-arg-relations_test.txt\r\n",
      "tar: Ignoring unknown extended header keyword 'SCHILY.dev'\r\n",
      "tar: Ignoring unknown extended header keyword 'SCHILY.ino'\r\n",
      "tar: Ignoring unknown extended header keyword 'SCHILY.nlink'\r\n",
      "tasksv11/en/qa5_three-arg-relations_train.txt\r\n",
      "tar: Ignoring unknown extended header keyword 'SCHILY.dev'\r\n",
      "tar: Ignoring unknown extended header keyword 'SCHILY.ino'\r\n",
      "tar: Ignoring unknown extended header keyword 'SCHILY.nlink'\r\n",
      "tasksv11/en/qa6_yes-no-questions_test.txt\r\n",
      "tar: Ignoring unknown extended header keyword 'SCHILY.dev'\r\n",
      "tar: Ignoring unknown extended header keyword 'SCHILY.ino'\r\n",
      "tar: Ignoring unknown extended header keyword 'SCHILY.nlink'\r\n",
      "tasksv11/en/qa6_yes-no-questions_train.txt\r\n",
      "tar: Ignoring unknown extended header keyword 'SCHILY.dev'\r\n",
      "tar: Ignoring unknown extended header keyword 'SCHILY.ino'\r\n",
      "tar: Ignoring unknown extended header keyword 'SCHILY.nlink'\r\n",
      "tasksv11/en/qa7_counting_test.txt\r\n",
      "tar: Ignoring unknown extended header keyword 'SCHILY.dev'\r\n",
      "tar: Ignoring unknown extended header keyword 'SCHILY.ino'\r\n",
      "tar: Ignoring unknown extended header keyword 'SCHILY.nlink'\r\n",
      "tasksv11/en/qa7_counting_train.txt\r\n",
      "tar: Ignoring unknown extended header keyword 'SCHILY.dev'\r\n",
      "tar: Ignoring unknown extended header keyword 'SCHILY.ino'\r\n",
      "tar: Ignoring unknown extended header keyword 'SCHILY.nlink'\r\n",
      "tasksv11/en/qa8_lists-sets_test.txt\r\n",
      "tar: Ignoring unknown extended header keyword 'SCHILY.dev'\r\n",
      "tar: Ignoring unknown extended header keyword 'SCHILY.ino'\r\n",
      "tar: Ignoring unknown extended header keyword 'SCHILY.nlink'\r\n",
      "tasksv11/en/qa8_lists-sets_train.txt\r\n",
      "tar: Ignoring unknown extended header keyword 'SCHILY.dev'\r\n",
      "tar: Ignoring unknown extended header keyword 'SCHILY.ino'\r\n",
      "tar: Ignoring unknown extended header keyword 'SCHILY.nlink'\r\n",
      "tasksv11/en/qa9_simple-negation_test.txt\r\n",
      "tar: Ignoring unknown extended header keyword 'SCHILY.dev'\r\n",
      "tar: Ignoring unknown extended header keyword 'SCHILY.ino'\r\n",
      "tar: Ignoring unknown extended header keyword 'SCHILY.nlink'\r\n",
      "tasksv11/en/qa9_simple-negation_train.txt\r\n"
     ]
    }
   ],
   "source": [
    "!wget http://www.thespermwhale.com/jaseweston/babi/tasks_1-20_v1-1.tar.gz\n",
    "!tar -xvf tasks_1-20_v1-1.tar.gz"
   ]
  },
  {
   "cell_type": "code",
   "execution_count": 2,
   "metadata": {},
   "outputs": [],
   "source": [
    "import numpy as np"
   ]
  },
  {
   "cell_type": "code",
   "execution_count": 3,
   "metadata": {},
   "outputs": [],
   "source": [
    "f = open('tasksv11/en/qa1_single-supporting-fact_train.txt','r')\n",
    "raw = f.readlines()\n",
    "f.close()\n",
    "tokens = list()\n",
    "for line in raw[0:1000]:\n",
    "    tokens.append(line.lower().replace(\"\\n\",\"\").replace(\"\\t\",\"\").replace(\"1\",\"\").replace(\"5\",\"\").replace(\".\",\"\")\n",
    "                  .replace(\"10\",\"\").replace(\"0\",\"\").replace(\"2\",\"\").replace(\"8\",\"\").replace(\"?\",\"\").replace(\"3\",\"\")\n",
    "                  .replace(\"4\",\"\").replace(\"7\",\"\").split(\" \")[1:])"
   ]
  },
  {
   "cell_type": "code",
   "execution_count": 4,
   "metadata": {},
   "outputs": [
    {
     "data": {
      "text/plain": [
       "[['mary', 'moved', 'to', 'the', 'bathroom'],\n",
       " ['john', 'went', 'to', 'the', 'hallway'],\n",
       " ['where', 'is', 'mary', 'bathroom'],\n",
       " ['daniel', 'went', 'back', 'to', 'the', 'hallway'],\n",
       " ['sandra', 'moved', 'to', 'the', 'garden'],\n",
       " ['where', 'is', 'daniel', 'hallway'],\n",
       " ['john', 'moved', 'to', 'the', 'office']]"
      ]
     },
     "execution_count": 4,
     "metadata": {},
     "output_type": "execute_result"
    }
   ],
   "source": [
    "tokens[:7]"
   ]
  },
  {
   "cell_type": "code",
   "execution_count": 5,
   "metadata": {},
   "outputs": [],
   "source": [
    "unique_vocab = set()\n",
    "for sent in tokens:\n",
    "    for word in sent:\n",
    "        unique_vocab.add(word)"
   ]
  },
  {
   "cell_type": "code",
   "execution_count": 6,
   "metadata": {},
   "outputs": [],
   "source": [
    "word2index = {}\n",
    "for i,word in enumerate(unique_vocab):\n",
    "    word2index[word]=i"
   ]
  },
  {
   "cell_type": "code",
   "execution_count": 7,
   "metadata": {},
   "outputs": [],
   "source": [
    "def words2indices(sentence):\n",
    "    \"\"\"\n",
    "    this func iterate through every word in sentence and append\n",
    "    it's index to a list\n",
    "            \n",
    "            returns: list of index for each word in a sentence \n",
    "    Example:\n",
    "    sentence = ['Omar','road','the','car'] converted to [23,1,12,9]\n",
    "    \"\"\"\n",
    "    idx = list()\n",
    "    for word in sentence:\n",
    "        idx.append(word2index[word])\n",
    "    return idx"
   ]
  },
  {
   "cell_type": "code",
   "execution_count": 8,
   "metadata": {},
   "outputs": [
    {
     "data": {
      "text/plain": [
       "19"
      ]
     },
     "execution_count": 8,
     "metadata": {},
     "output_type": "execute_result"
    }
   ],
   "source": [
    "len(unique_vocab)"
   ]
  },
  {
   "cell_type": "code",
   "execution_count": 9,
   "metadata": {},
   "outputs": [],
   "source": [
    "vector_size = 10 #vector size for each word"
   ]
  },
  {
   "cell_type": "code",
   "execution_count": 10,
   "metadata": {},
   "outputs": [],
   "source": [
    "one_hot = np.eye(len(unique_vocab))"
   ]
  },
  {
   "cell_type": "markdown",
   "metadata": {},
   "source": [
    "# RNN\n",
    "rnn cell has 3 weights matricies ,U called the embedding weight(the first weight to get multiplied by the one hot vector from the input 'words'),W is the weight matrix that get multiplied to the previous hidden state and V the weight matrix after the output of the RNN cell(will explain them later indetails). Let's begin with the easy part which is intializing the weights, it turned out that initializing weight affect the result of prediction so it is recommended to initialize the weights randomly in the interval from $\\left[-\\frac{1}{\\sqrt{n}}, \\frac{1}{\\sqrt{n}}\\right]$ where $n$ is the number of incoming connections from the previous layer"
   ]
  },
  {
   "cell_type": "code",
   "execution_count": 11,
   "metadata": {},
   "outputs": [],
   "source": [
    "U = (np.random.rand(len(unique_vocab),vector_size))\n",
    "W = np.random.rand(vector_size)\n",
    "V = (np.random.rand(vector_size,len(unique_vocab)))"
   ]
  },
  {
   "cell_type": "code",
   "execution_count": 12,
   "metadata": {},
   "outputs": [
    {
     "data": {
      "text/plain": [
       "(10,)"
      ]
     },
     "execution_count": 12,
     "metadata": {},
     "output_type": "execute_result"
    }
   ],
   "source": [
    "W.shape"
   ]
  },
  {
   "cell_type": "markdown",
   "metadata": {},
   "source": [
    "We have almost reached half a way from the process of forward propagation, let dive in this process and see what actually happens"
   ]
  },
  {
   "cell_type": "markdown",
   "metadata": {},
   "source": [
    "## Forward path"
   ]
  },
  {
   "cell_type": "markdown",
   "metadata": {},
   "source": [
    "Input is one hot encoded  "
   ]
  },
  {
   "cell_type": "markdown",
   "metadata": {},
   "source": [
    "### First\n",
    "let begin with the process that happens with our first weight(embedding matrix), we simply extract the vector regards the index of the input word which in this case will be of size 10 as out vector is of size 10 and add it to the previous state. here's the equation for the following"
   ]
  },
  {
   "cell_type": "markdown",
   "metadata": {},
   "source": [
    "$$s[t] = {U(x) + W.s(t - 1)}{}$$\n"
   ]
  },
  {
   "cell_type": "markdown",
   "metadata": {},
   "source": [
    " $$\\begin{bmatrix} 18 & 55 & 1 & 2 & 1 & 4 & 11 & 44 & 33 & 100\\\\ 22 & 88 & 33 &71 & 3 & 0 & 1 & 7 & 3 & 33 \\\\ 20 & 19 & 9 & 0 & 2 & 4 & 10 & 13 & 44 & 31\\end{bmatrix}$$"
   ]
  },
  {
   "cell_type": "markdown",
   "metadata": {},
   "source": [
    "so for example if the word index is 1 then the vector related to it is the first row of the previous matrix."
   ]
  },
  {
   "cell_type": "markdown",
   "metadata": {},
   "source": [
    "### Second\n",
    "a dot product of the s[t] with our last weight matrix V and this is simply our prediction layer i,e the vector [1,0,0,0,0] that translates to a certain word.\n",
    "\n"
   ]
  },
  {
   "cell_type": "markdown",
   "metadata": {},
   "source": [
    "$$o[t] = {V.s(t)}{}$$\n"
   ]
  },
  {
   "cell_type": "markdown",
   "metadata": {},
   "source": [
    "### softmax"
   ]
  },
  {
   "cell_type": "code",
   "execution_count": 13,
   "metadata": {},
   "outputs": [],
   "source": [
    "def softmax(x):\n",
    "    e_x = np.exp(x - np.max(x))\n",
    "    return e_x / e_x.sum(axis=0)"
   ]
  },
  {
   "cell_type": "code",
   "execution_count": 14,
   "metadata": {},
   "outputs": [],
   "source": [
    "def forward_prop(sentence):\n",
    "    layers = list() # list for s[t] and o[t]\n",
    "    layer = {} # dict indicating whether a layer is S[t] or o[t]\n",
    "    loss = 0\n",
    "    layer['s']  = np.zeros(vector_size) #s[0]\n",
    "    layers.append(layer)\n",
    "    for target_i in range(len(sentence)):\n",
    "        # we computed the layer_1_2 here first it's odd right?\n",
    "        # but if you though about it you will find that we now have a hidden\n",
    "        # state s[0] and we need to use it to predict the next  word\n",
    "        # we will use softmax here to keep values bet 0 and 1 since\n",
    "        #remeber you want to predict sth like [1,0,0..]\n",
    "        layer = {}\n",
    "        layer['o'] = softmax(layers[-1]['s'].dot(V))\n",
    "        loss += -np.log(layer['o'][sentence[target_i]])\n",
    "        layer['s'] = U[sentence[target_i]] + layers[-1]['s'].dot(W)\n",
    "        layers.append(layer)\n",
    "    return layers, loss"
   ]
  },
  {
   "cell_type": "markdown",
   "metadata": {},
   "source": [
    "Congraulations you have made it through forward progation!"
   ]
  },
  {
   "cell_type": "markdown",
   "metadata": {},
   "source": [
    "### Backpropagation"
   ]
  },
  {
   "cell_type": "code",
   "execution_count": 17,
   "metadata": {},
   "outputs": [],
   "source": [
    "learning_rate = 0.1"
   ]
  },
  {
   "cell_type": "code",
   "execution_count": 38,
   "metadata": {},
   "outputs": [],
   "source": [
    "def back_prop():\n",
    "    \"\"\"\n",
    "    This function will perform what is called back propagation through time\n",
    "    we will walk through all layers and compute delta which is diff between\n",
    "    predicted and actual label(magnitude and direction of change), weighted delta which \n",
    "    \n",
    "    \"\"\"\n",
    "    for iter in range(30000):#still forwards prop\n",
    "        sent = words2indices(tokens[iter%len(tokens)][1:])\n",
    "        layers,loss = forward_prop(sent)\n",
    "        for layer_i in reversed(range(len(layers))): # starting backprop\n",
    "            layer = layers[layer_i]\n",
    "            target = layers[layer_i - 1] #since if you see the output from the 'froward_prop' function, you will notice that\n",
    "            # there's an extra state without an output layer in the end so that's why the target is to be the layer before the\n",
    "            #last layer\n",
    "            if(layer_i>0): # since layer[0] is just the s[0] so it's just the hidden\n",
    "                #state at time zero not any predicted output\n",
    "                layer['output_delta'] = layer['o'] - one_hot[target]\n",
    "                new_weighted_delta = layer['output_delta'].dot(V.transpose())\n",
    "                if(layer_i == len(layers)-1): # if last layer multiply by V\n",
    "                    # since it's the weight matrix we need to stir the change \n",
    "                    # to achieve min loss\n",
    "                    layer['hidden_delta'] = new_weighted_delta\n",
    "                else:\n",
    "                    #if not add weighted delta of the last layer with\n",
    "                    # weighted delta of the layer exactly after the step\n",
    "                    #you are in and multiply them the W matrix\n",
    "                    layer['hidden_delta'] = new_weighted_delta + layers[layer_i+1]['hidden_delta'].dot(W.transpose())\n",
    "            else: # if the first layer\n",
    "                layer['hidden_delta'] = layers[layer_i+1]['hidden_delta'].dot(W.transpose())\n",
    "        #----------------------------------------------------------------------------------------------------------\n",
    "            # so we have been updating the matricies in the layers\n",
    "            # but don't we need to update our actual weights accordingly\n",
    "            # and by weights I mean the U, W and V as well as the s[0]\n",
    "            # we assumed that it starts at 0,0,0,.. but is there a better\n",
    "            # start in the direction of minimizing loss\n",
    "            layers[0]['s'] -= layers[0]['s']*learning_rate / float(len(sent))\n",
    "            for layer_i ,layer in enumerate(layers[1:]):\n",
    "                # changing the last weight by multiplying its output_delta by it\n",
    "                # hidden state matricies\n",
    "                V -= np.outer(layers[layer_i]['s'],layer['output_delta'])*learning_rate/float(len(sent))\n",
    "\n",
    "                #updating embeddings for each word by index\n",
    "                U_i = sent[layer_i]\n",
    "                U[U_i] -= layers[layer_i]['s']*alpha/float(len(sent))\n",
    "                # updating W that is multiplied by the hidden state\n",
    "                # in the main equation ^^ by multiplying the hidden layer weights\n",
    "                # with the hidden delta\n",
    "\n",
    "                W -= np.outer(layers[layer_i]['s'],layer['hidden_delta'])*learning_rate/ float(len(sent))\n",
    "\n",
    "            if(iter % 1000 == 0):\n",
    "                print(\"Perplexity:\" + str(np.exp(loss/len(sent))))"
   ]
  },
  {
   "cell_type": "code",
   "execution_count": null,
   "metadata": {},
   "outputs": [],
   "source": []
  },
  {
   "cell_type": "code",
   "execution_count": null,
   "metadata": {},
   "outputs": [],
   "source": []
  },
  {
   "cell_type": "code",
   "execution_count": null,
   "metadata": {},
   "outputs": [],
   "source": []
  }
 ],
 "metadata": {
  "kernelspec": {
   "display_name": "Python 3",
   "language": "python",
   "name": "python3"
  },
  "language_info": {
   "codemirror_mode": {
    "name": "ipython",
    "version": 3
   },
   "file_extension": ".py",
   "mimetype": "text/x-python",
   "name": "python",
   "nbconvert_exporter": "python",
   "pygments_lexer": "ipython3",
   "version": "3.7.3"
  }
 },
 "nbformat": 4,
 "nbformat_minor": 2
}
